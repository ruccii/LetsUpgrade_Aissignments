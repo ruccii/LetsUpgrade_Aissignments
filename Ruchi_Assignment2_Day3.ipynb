{
  "nbformat": 4,
  "nbformat_minor": 0,
  "metadata": {
    "colab": {
      "name": "Ruchi Assignment2_Day3.ipynb",
      "provenance": []
    },
    "kernelspec": {
      "name": "python3",
      "display_name": "Python 3"
    }
  },
  "cells": [
    {
      "cell_type": "markdown",
      "metadata": {
        "id": "e6KsGVDgXMuo"
      },
      "source": [
        "***Q.Use IF ELSE and ELIF to write a program in python for your Report Cards. ***\r\n"
      ]
    },
    {
      "cell_type": "code",
      "metadata": {
        "id": "l5F2BAzpUxtm"
      },
      "source": [
        "marks=92 "
      ],
      "execution_count": 5,
      "outputs": []
    },
    {
      "cell_type": "code",
      "metadata": {
        "colab": {
          "base_uri": "https://localhost:8080/"
        },
        "id": "vpZ7qdk2VGMx",
        "outputId": "8c788b56-abb7-466d-bb03-bb3dbc853194"
      },
      "source": [
        "if marks>=90: \r\n",
        "  print(\"Grade = A\") \r\n",
        "elif marks>=75 and marks<90: \r\n",
        "  print(\"Grade = B\") \r\n",
        "elif marks>=60 and marks<75: \r\n",
        "  print(\"Grade = c\") \r\n",
        "elif marks>=45 and marks<60: \r\n",
        "  print(\"Grade = D\") \r\n",
        "else: \r\n",
        "  print(\"failed\")"
      ],
      "execution_count": 7,
      "outputs": [
        {
          "output_type": "stream",
          "text": [
            "Grade = A\n"
          ],
          "name": "stdout"
        }
      ]
    },
    {
      "cell_type": "code",
      "metadata": {
        "colab": {
          "base_uri": "https://localhost:8080/"
        },
        "id": "56Ypvy4uVd8v",
        "outputId": "41dec91a-73cc-4442-fa32-c5e9059927f7"
      },
      "source": [
        "Percentage=marks/100 * 100 \r\n",
        "Percentage"
      ],
      "execution_count": 8,
      "outputs": [
        {
          "output_type": "execute_result",
          "data": {
            "text/plain": [
              "92.0"
            ]
          },
          "metadata": {
            "tags": []
          },
          "execution_count": 8
        }
      ]
    },
    {
      "cell_type": "markdown",
      "metadata": {
        "id": "U89IA5V5XU5y"
      },
      "source": [
        "**Q. Use For Loop to Print Prime Numbers in between 1 to 1000**"
      ]
    },
    {
      "cell_type": "code",
      "metadata": {
        "id": "qhWkw85rXZOa"
      },
      "source": [
        "lower=1 \r\n",
        "upper=1000"
      ],
      "execution_count": 10,
      "outputs": []
    },
    {
      "cell_type": "code",
      "metadata": {
        "colab": {
          "base_uri": "https://localhost:8080/"
        },
        "id": "9d3TZblfYOxy",
        "outputId": "6f2c6a09-577a-4208-c657-5f2f796c30e6"
      },
      "source": [
        "print(\"Prime numbers between\",lower,\"and\",upper,\"are:\") \r\n",
        "for num in range(lower,upper+1): \r\n",
        "  if num>1: \r\n",
        "    for i in range(2, num): \r\n",
        "      if(num % i) == 0: \r\n",
        "        break \r\n",
        "        \r\n",
        "    else: \r\n",
        "          print(num) "
      ],
      "execution_count": 19,
      "outputs": [
        {
          "output_type": "stream",
          "text": [
            "Prime numbers between 1 and 1000 are:\n",
            "2\n",
            "3\n",
            "5\n",
            "7\n",
            "11\n",
            "13\n",
            "17\n",
            "19\n",
            "23\n",
            "29\n",
            "31\n",
            "37\n",
            "41\n",
            "43\n",
            "47\n",
            "53\n",
            "59\n",
            "61\n",
            "67\n",
            "71\n",
            "73\n",
            "79\n",
            "83\n",
            "89\n",
            "97\n",
            "101\n",
            "103\n",
            "107\n",
            "109\n",
            "113\n",
            "127\n",
            "131\n",
            "137\n",
            "139\n",
            "149\n",
            "151\n",
            "157\n",
            "163\n",
            "167\n",
            "173\n",
            "179\n",
            "181\n",
            "191\n",
            "193\n",
            "197\n",
            "199\n",
            "211\n",
            "223\n",
            "227\n",
            "229\n",
            "233\n",
            "239\n",
            "241\n",
            "251\n",
            "257\n",
            "263\n",
            "269\n",
            "271\n",
            "277\n",
            "281\n",
            "283\n",
            "293\n",
            "307\n",
            "311\n",
            "313\n",
            "317\n",
            "331\n",
            "337\n",
            "347\n",
            "349\n",
            "353\n",
            "359\n",
            "367\n",
            "373\n",
            "379\n",
            "383\n",
            "389\n",
            "397\n",
            "401\n",
            "409\n",
            "419\n",
            "421\n",
            "431\n",
            "433\n",
            "439\n",
            "443\n",
            "449\n",
            "457\n",
            "461\n",
            "463\n",
            "467\n",
            "479\n",
            "487\n",
            "491\n",
            "499\n",
            "503\n",
            "509\n",
            "521\n",
            "523\n",
            "541\n",
            "547\n",
            "557\n",
            "563\n",
            "569\n",
            "571\n",
            "577\n",
            "587\n",
            "593\n",
            "599\n",
            "601\n",
            "607\n",
            "613\n",
            "617\n",
            "619\n",
            "631\n",
            "641\n",
            "643\n",
            "647\n",
            "653\n",
            "659\n",
            "661\n",
            "673\n",
            "677\n",
            "683\n",
            "691\n",
            "701\n",
            "709\n",
            "719\n",
            "727\n",
            "733\n",
            "739\n",
            "743\n",
            "751\n",
            "757\n",
            "761\n",
            "769\n",
            "773\n",
            "787\n",
            "797\n",
            "809\n",
            "811\n",
            "821\n",
            "823\n",
            "827\n",
            "829\n",
            "839\n",
            "853\n",
            "857\n",
            "859\n",
            "863\n",
            "877\n",
            "881\n",
            "883\n",
            "887\n",
            "907\n",
            "911\n",
            "919\n",
            "929\n",
            "937\n",
            "941\n",
            "947\n",
            "953\n",
            "967\n",
            "971\n",
            "977\n",
            "983\n",
            "991\n",
            "997\n"
          ],
          "name": "stdout"
        }
      ]
    },
    {
      "cell_type": "markdown",
      "metadata": {
        "id": "gdqoQv9gY6B-"
      },
      "source": [
        "**Q. Write a program for printing the tables from 1,10 using Nested For Loop**"
      ]
    },
    {
      "cell_type": "code",
      "metadata": {
        "colab": {
          "base_uri": "https://localhost:8080/"
        },
        "id": "5ONhcMx3ZgPy",
        "outputId": "f964260c-c22a-4751-dc5e-7b793b03eb86"
      },
      "source": [
        "number= int(input(\"Display multiplication table of the:\"))\r\n",
        "for i in range(1,11):\r\n",
        "  print(number,'x',i,'=',number*i)\r\n"
      ],
      "execution_count": 23,
      "outputs": [
        {
          "output_type": "stream",
          "text": [
            "Display multiplication table of the:5\n",
            "5 x 1 = 5\n",
            "5 x 2 = 10\n",
            "5 x 3 = 15\n",
            "5 x 4 = 20\n",
            "5 x 5 = 25\n",
            "5 x 6 = 30\n",
            "5 x 7 = 35\n",
            "5 x 8 = 40\n",
            "5 x 9 = 45\n",
            "5 x 10 = 50\n"
          ],
          "name": "stdout"
        }
      ]
    },
    {
      "cell_type": "markdown",
      "metadata": {
        "id": "JON0ZtMObX4y"
      },
      "source": [
        "***Q.Write a program to Print X Prime Numbers using While Loop starting from 0, and take the INput of X from the user ***"
      ]
    },
    {
      "cell_type": "code",
      "metadata": {
        "colab": {
          "base_uri": "https://localhost:8080/"
        },
        "id": "FyB00IEWbdE9",
        "outputId": "a0137a08-e885-4130-b76a-7f6e1ffbf267"
      },
      "source": [
        "Number = int(input(\"Please Enter any Number: \")) \r\n",
        "count = 0 \r\n",
        "for i in range(2, (Number//2 + 1)): \r\n",
        "  if(Number % i == 0): \r\n",
        "    count = count + 1 \r\n",
        "    break \r\n",
        "if (count == 0 and Number != 1): \r\n",
        "      print(\" %d is a Prime Number\" %Number)\r\n",
        "else: \r\n",
        "      print(\" %d is not a Prime Number\" %Number) \r\n",
        "        "
      ],
      "execution_count": 34,
      "outputs": [
        {
          "output_type": "stream",
          "text": [
            "Please Enter any Number: 7\n",
            " 7 is a Prime Number\n"
          ],
          "name": "stdout"
        }
      ]
    },
    {
      "cell_type": "code",
      "metadata": {
        "id": "DDDoroPHcu28"
      },
      "source": [
        ""
      ],
      "execution_count": null,
      "outputs": []
    }
  ]
}